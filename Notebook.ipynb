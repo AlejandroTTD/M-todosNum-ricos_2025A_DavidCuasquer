{
 "cells": [
  {
   "cell_type": "markdown",
   "id": "76f0c2b5",
   "metadata": {},
   "source": [
    "<h1 style=\"text-align: center;\">Métodos Numéricos</h1>"
   ]
  },
  {
   "cell_type": "markdown",
   "id": "fdbbae29",
   "metadata": {},
   "source": [
    "<h3 style=\"text-align: left; color: red;\">Conceptos clave</h3>"
   ]
  },
  {
   "cell_type": "markdown",
   "id": "8297ac25",
   "metadata": {},
   "source": [
    "- Modelar: Describir un problema o abstraer sus carácterísticas intrínsecas.\n",
    "- Simular: Experimentar mediante los datos o características obtenidas de la abstracción.\n",
    "- Emular: Imitar escenarios."
   ]
  },
  {
   "cell_type": "markdown",
   "id": "5edf1cfb",
   "metadata": {},
   "source": [
    "<h3 style=\"text-align: left; color: red;\">Métodos Analíticos</h3>\n",
    "\n",
    "Referencia al manejo de grandes datos, donde la solución es exacta."
   ]
  },
  {
   "cell_type": "code",
   "execution_count": 5,
   "id": "358d173b",
   "metadata": {},
   "outputs": [
    {
     "name": "stdout",
     "output_type": "stream",
     "text": [
      "El valor de x cuando toma el valor de 3.0 es: 11.0\n"
     ]
    }
   ],
   "source": [
    "# Resolver ecuación\n",
    "def resolver_ecuacion (x):\n",
    "    # Ecuación: x^2+x-1\n",
    "    resultado = x**2 + x - 1\n",
    "    print(f\"El valor de x cuando toma el valor de {x} es: {resultado}\")\n",
    "    return None\n",
    "\n",
    "x = float(input(\"Ingrese el valor de x: \"))\n",
    "resolver_ecuacion(x)"
   ]
  },
  {
   "cell_type": "markdown",
   "id": "02dabb97",
   "metadata": {},
   "source": [
    "<h3 style=\"text-align: left; color: red;\">Métodos Numéricos</h3>\n",
    "\n",
    "Proporciona soluciones aproximadas, con error. Es decir, sin solución exacta."
   ]
  },
  {
   "cell_type": "code",
   "execution_count": 7,
   "id": "d41d460e",
   "metadata": {},
   "outputs": [
    {
     "name": "stdout",
     "output_type": "stream",
     "text": [
      "Aproximación: x = -1.5999999999999996, f(x) = -0.040000000000000924\n",
      "Aproximación: x = 0.6000000000000006, f(x) = -0.03999999999999859\n"
     ]
    }
   ],
   "source": [
    "\n",
    "# Obtener valores de x\n",
    "x = -2\n",
    "while x <= 2:\n",
    "    resultado = x**2 + x - 1\n",
    "    if abs(resultado) < 0.1: \n",
    "        print(f\"Aproximación: x = {x}, f(x) = {resultado}\")\n",
    "    x += 0.1\n"
   ]
  },
  {
   "cell_type": "markdown",
   "id": "9e9377ca",
   "metadata": {},
   "source": [
    "<h3 style=\"text-align: left; color: red;\">Precisión vs Exactitud</h3>\n",
    "\n",
    "- Exactitud: Nos dice que tan cerca del valor real se encuentran los resultados.\n",
    "- Precision: Nos dice que tan cerca están los resultados entre sí, sin importar si se acercan al valor real."
   ]
  },
  {
   "cell_type": "code",
   "execution_count": 12,
   "id": "f25942a2",
   "metadata": {},
   "outputs": [
    {
     "name": "stdout",
     "output_type": "stream",
     "text": [
      "Preciso pero no exacto:\n",
      "Promedio = 15.12\n",
      "Error = 5.119999999999999\n",
      "\n",
      "Exacto pero no preciso:\n",
      "Promedio = 10.1\n",
      "Error = 0.09999999999999964\n",
      "\n",
      "Preciso y exacto:\n",
      "Promedio = 10.02\n",
      "Error = 0.019999999999999574\n",
      "\n"
     ]
    }
   ],
   "source": [
    "# Codigo para apreciar la diferencia\n",
    "valor_real = 10\n",
    "\n",
    "# Conjuntos de valores para evidenciar la diferencia\n",
    "preciso_no_exacto = [15.1, 15.2, 15.0, 15.1, 15.2] # Mas preciso\n",
    "exacto_no_preciso = [9.0, 11.0, 10.5, 8.5, 11.5] # Mas exacto\n",
    "preciso_y_exacto = [10.1, 10.0, 9.9, 10.0, 10.1] # Los dos\n",
    "\n",
    "# Función para calcular promedio y error\n",
    "def analizar(mediciones, nombre):\n",
    "    promedio = sum(mediciones) / len(mediciones)\n",
    "    error = abs(promedio - valor_real)\n",
    "    print(f\"{nombre}:\")\n",
    "    print(f\"Promedio = {promedio}\")\n",
    "    print(f\"Error = {error}\")\n",
    "    print()\n",
    "\n",
    "analizar(preciso_no_exacto, \"Preciso pero no exacto\")\n",
    "analizar(exacto_no_preciso, \"Exacto pero no preciso\")\n",
    "analizar(preciso_y_exacto, \"Preciso y exacto\")\n"
   ]
  },
  {
   "cell_type": "markdown",
   "id": "4463f0ea",
   "metadata": {},
   "source": [
    "<h3 style=\"text-align: left; color: red;\">Tipos de errores</h3>\n",
    "\n",
    "- Error de corte/truncamiento: Se toman los digitos sin redondear, por corte como lo dice el nombre.\n",
    "- Error de redondeo: Se redondean los dígitos."
   ]
  },
  {
   "cell_type": "code",
   "execution_count": 5,
   "id": "35f8f7f4",
   "metadata": {},
   "outputs": [
    {
     "name": "stdout",
     "output_type": "stream",
     "text": [
      "2.82502\n",
      "Valor de x por redondeo: 2.82503\n"
     ]
    }
   ],
   "source": [
    "# Error de corte\n",
    "x = 2 * 1.41251231235\n",
    "def truncar(digito, digitos_truncamiento):\n",
    "    digito_string = str(digito)\n",
    "\n",
    "    negativo = digito_string.startswith(\"-\")\n",
    "    if negativo:\n",
    "        digito_string = digito_string[1:]\n",
    "\n",
    "    if \".\" in digito_string:\n",
    "        parte_entera, parte_decimal = digito_string.split(\".\")\n",
    "        parte_decimal_truncada = parte_decimal[:digitos_truncamiento]\n",
    "    else:\n",
    "        parte_entera = digito_string\n",
    "        parte_decimal_truncada = \"0\"\n",
    "\n",
    "    digito_truncado = parte_entera + \".\" + parte_decimal_truncada\n",
    "    if negativo:\n",
    "        digito_truncado = \"-\" + digito_truncado\n",
    "\n",
    "    return float(digito_truncado)\n",
    "\n",
    "print(truncar(x,5))\n",
    "# Error de redondeo\n",
    "x_redondeado = int(x * 100000 + 0.7) / 100000\n",
    "print(f\"Valor de x por redondeo: {x_redondeado}\")"
   ]
  },
  {
   "cell_type": "markdown",
   "id": "ee399798",
   "metadata": {},
   "source": [
    "<h3 style=\"text-align: left; color: red;\">Representación Numérica</h3>\n",
    "\n",
    "Es el como una computadora almacena y maneja los números utilizando bits, mediante el estándar IEEE 754 de doble o simple precisión."
   ]
  },
  {
   "cell_type": "code",
   "execution_count": 19,
   "id": "2e4be04f",
   "metadata": {},
   "outputs": [
    {
     "name": "stdout",
     "output_type": "stream",
     "text": [
      "El numero es: -18.96\n"
     ]
    }
   ],
   "source": [
    "def estandar_754_precision_simple(signo,exponente,mantisa):\n",
    "    # Para el exponente\n",
    "    e = 127\n",
    "    exponente_sesgado = exponente - e\n",
    "    # Para la mantisa\n",
    "    m = mantisa + 1\n",
    "\n",
    "    resultado = ((-1) ** signo) * (2 ** exponente_sesgado) * m\n",
    "\n",
    "    print(f\"El numero es: {resultado}\")\n",
    "    return None\n",
    "\n",
    "signo = 1\n",
    "exponente = 131\n",
    "mantisa = 0.185\n",
    "estandar_754_precision_simple(1,131,0.185)"
   ]
  },
  {
   "cell_type": "markdown",
   "id": "08577780",
   "metadata": {},
   "source": [
    "<h3 style=\"text-align: left; color: red;\">Cálculo de errores</h3>"
   ]
  },
  {
   "cell_type": "markdown",
   "id": "7ceccacd",
   "metadata": {
    "vscode": {
     "languageId": "latex"
    }
   },
   "source": [
    "Error real:\n",
    "\n",
    "$$error_{real}~=~p - p^*$$\n",
    "\n",
    "Error absoluto:\n",
    "\n",
    "$$error_{abs}~=~|error_{real}|$$\n",
    "\n",
    "Error relativo:\n",
    "\n",
    "$$error_{rel}~=~|\\frac{error_{abs}}{p}|$$\n",
    "\n",
    "Error relativo porcentual:\n",
    "\n",
    "$$error_{\\%}~=~error_{rel}*100\\%$$"
   ]
  },
  {
   "cell_type": "code",
   "execution_count": 37,
   "id": "a5a4fc4e",
   "metadata": {},
   "outputs": [
    {
     "name": "stdout",
     "output_type": "stream",
     "text": [
      "Error real: -0.2817181715409549\n",
      "Error absoluto: 0.2817181715409549\n",
      "Error relativo: 0.10363832351432703\n",
      "Error relativo porcentual: 10.363832351432704%\n"
     ]
    }
   ],
   "source": [
    "import math\n",
    "\n",
    "def error_real(p,p_aprox):\n",
    "    error_real = p - p_aprox\n",
    "    print(f\"Error real: {error_real}\")\n",
    "    return None\n",
    "\n",
    "def error_absoluto(p,p_aprox):\n",
    "    error_abs = abs(p-p_aprox)\n",
    "    print(f\"Error absoluto: {error_abs}\")\n",
    "    return None\n",
    "\n",
    "def error_relativo(p,p_aprox):\n",
    "    error_rel = abs((p-p_aprox)/p)\n",
    "    print(f\"Error relativo: {error_rel}\")\n",
    "    return None\n",
    "\n",
    "def error_relativo_porcentual(p,p_aprox):\n",
    "    error_porc = (abs((p-p_aprox)/p)) * 100\n",
    "    print(f\"Error relativo porcentual: {error_porc}%\")\n",
    "    return None\n",
    "\n",
    "p = math.e\n",
    "p_aprox = 3\n",
    "\n",
    "error_real(p,p_aprox)\n",
    "error_absoluto(p,p_aprox)\n",
    "error_relativo(p,p_aprox)\n",
    "error_relativo_porcentual(p,p_aprox)"
   ]
  },
  {
   "cell_type": "markdown",
   "id": "bf144dcf",
   "metadata": {},
   "source": [
    "<h3 style=\"text-align: left; color: red;\">Representación Numérica IEEE 754</h3>\n",
    "\n",
    "Pasos para convertir un número decimal a este estándar:\n",
    "1. Convertir a binario (parte entera y decimal).\n",
    "2. Escribir en notación científica el número obtenido.\n",
    "3. Seguir el estándar IEEE 754 de 32 o 64 bits.\n",
    "\n",
    "Seguiremos el ejemplo con el número $263.3_{10}$"
   ]
  },
  {
   "cell_type": "code",
   "execution_count": 6,
   "id": "9400642f",
   "metadata": {},
   "outputs": [
    {
     "name": "stdout",
     "output_type": "stream",
     "text": [
      "Signo:0\n",
      "Exponente:10000111\n",
      "Mantisa:00000111010011000000000\n",
      "IEEE-754 de 32 bits:0 10000111 00000111010011000000000\n"
     ]
    }
   ],
   "source": [
    "def entero_a_binario(parte_entera):\n",
    "    bit_parte_entera = \"\"\n",
    "    if parte_entera == 0:\n",
    "        bit_parte_entera = \"0\"\n",
    "    else:\n",
    "        while parte_entera > 0:\n",
    "            residuo = parte_entera % 2\n",
    "            bit_parte_entera = str(residuo) + bit_parte_entera\n",
    "            parte_entera = int(parte_entera / 2)\n",
    "        return bit_parte_entera\n",
    "\n",
    "def fraccionario_a_binario(parte_fraccionaria):\n",
    "    bit_parte_fraccionaria = \"\"\n",
    "    conteo = 0\n",
    "    limite_cifras = 6\n",
    "    while parte_fraccionaria > 0 and conteo < limite_cifras:\n",
    "        parte_fraccionaria = parte_fraccionaria * 2\n",
    "        aux = int(parte_fraccionaria)\n",
    "        bit_parte_fraccionaria = bit_parte_fraccionaria + str(aux)\n",
    "        parte_fraccionaria -= aux\n",
    "        conteo += 1\n",
    "    return bit_parte_fraccionaria\n",
    "\n",
    "def signo(valor):\n",
    "    if valor < 0:\n",
    "        return \"1\"\n",
    "    else:\n",
    "        return \"0\"\n",
    "\n",
    "def exponente_binario(parte_entera, parte_fraccionaria):\n",
    "    if parte_entera != 0:\n",
    "        exponente = len(entero_a_binario(abs(parte_entera))) - 1\n",
    "    else:\n",
    "        exponente = -1\n",
    "        while parte_fraccionaria * 2 < 1:\n",
    "            parte_fraccionaria *= 2\n",
    "            exponente -= 1\n",
    "    exponente_sesgado = exponente + 127  \n",
    "    return entero_a_binario(exponente_sesgado).zfill(8)\n",
    "\n",
    "def obtener_mantisa(parte_entera, parte_fraccionaria):\n",
    "    if parte_entera != 0:\n",
    "        bin_entera = entero_a_binario(abs(parte_entera))\n",
    "        bin_fraccion = fraccionario_a_binario(parte_fraccionaria)\n",
    "        mantisa = bin_entera[1:] + bin_fraccion\n",
    "    else:\n",
    "        mantisa = \"\"\n",
    "        parte_fraccionaria = abs(parte_fraccionaria)\n",
    "        while parte_fraccionaria * 2 < 1:\n",
    "            parte_fraccionaria *= 2\n",
    "        parte_fraccionaria *= 2\n",
    "        mantisa += \"1\" \n",
    "        mantisa += fraccionario_a_binario(parte_fraccionaria - 1)\n",
    "    return (mantisa + \"00000000000000000000000\")[:23]  \n",
    "\n",
    "def convertir_a_ieee754(numero):\n",
    "    s = signo(numero)\n",
    "    parte_entera = int(abs(numero))\n",
    "    parte_fraccionaria = abs(numero) - parte_entera\n",
    "    e = exponente_binario(parte_entera, parte_fraccionaria)\n",
    "    m = obtener_mantisa(parte_entera, parte_fraccionaria)\n",
    "    ieee754 = s + \" \" + e + \" \" + m\n",
    "    print(f\"Signo:{s}\")\n",
    "    print(f\"Exponente:{e}\")\n",
    "    print(f\"Mantisa:{m}\")\n",
    "    print(f\"IEEE-754 de 32 bits:{ieee754}\")\n",
    "    return None\n",
    "\n",
    "convertir_a_ieee754(263.3)"
   ]
  },
  {
   "cell_type": "code",
   "execution_count": 1,
   "id": "9c123110",
   "metadata": {},
   "outputs": [
    {
     "name": "stdout",
     "output_type": "stream",
     "text": [
      "Signo:0\n",
      "Exponente:10000000111\n",
      "Mantisa:0000011101001100110011001100110011001100110011001101\n",
      "IEEE-754 de 64 bits:0 10000000111 0000011101001100110011001100110011001100110011001101\n"
     ]
    }
   ],
   "source": [
    "def entero_a_binario(parte_entera):\n",
    "    bit_parte_entera = \"\"\n",
    "    if parte_entera == 0:\n",
    "        bit_parte_entera = \"0\"\n",
    "    else:\n",
    "        while parte_entera > 0:\n",
    "            residuo = parte_entera % 2\n",
    "            bit_parte_entera = str(residuo) + bit_parte_entera\n",
    "            parte_entera = int(parte_entera / 2)\n",
    "    return bit_parte_entera\n",
    "\n",
    "def fraccionario_a_binario(parte_fraccionaria, limite_cifras):\n",
    "    bit_parte_fraccionaria = \"\"\n",
    "    conteo = 0\n",
    "    while parte_fraccionaria > 0 and conteo < limite_cifras:\n",
    "        parte_fraccionaria = parte_fraccionaria * 2\n",
    "        aux = int(parte_fraccionaria)\n",
    "        bit_parte_fraccionaria = bit_parte_fraccionaria + str(aux)\n",
    "        parte_fraccionaria -= aux\n",
    "        conteo += 1\n",
    "    return bit_parte_fraccionaria\n",
    "\n",
    "def signo(valor):\n",
    "    if valor < 0:\n",
    "        return \"1\"\n",
    "    else:\n",
    "        return \"0\"\n",
    "\n",
    "def exponente_binario_64(parte_entera, parte_fraccionaria):\n",
    "    if parte_entera != 0:\n",
    "        exponente = len(entero_a_binario(abs(parte_entera))) - 1\n",
    "    else:\n",
    "        exponente = -1\n",
    "        while parte_fraccionaria * 2 < 1:\n",
    "            parte_fraccionaria *= 2\n",
    "            exponente -= 1\n",
    "    exponente_sesgado = exponente + 1023  # bias para 64 bits\n",
    "    return entero_a_binario(exponente_sesgado).zfill(11)\n",
    "\n",
    "def obtener_mantisa_64(parte_entera, parte_fraccionaria):\n",
    "    if parte_entera != 0:\n",
    "        bin_entera = entero_a_binario(abs(parte_entera))\n",
    "        bin_fraccion = fraccionario_a_binario(parte_fraccionaria, 52)\n",
    "        mantisa = bin_entera[1:] + bin_fraccion\n",
    "    else:\n",
    "        mantisa = \"\"\n",
    "        parte_fraccionaria = abs(parte_fraccionaria)\n",
    "        while parte_fraccionaria * 2 < 1:\n",
    "            parte_fraccionaria *= 2\n",
    "        parte_fraccionaria *= 2\n",
    "        mantisa += \"1\"\n",
    "        mantisa += fraccionario_a_binario(parte_fraccionaria - 1, 52)\n",
    "    return (mantisa + \"0000000000000000000000000000000000000000000000000000\")[:52]\n",
    "\n",
    "def convertir_a_ieee754_64(numero):\n",
    "    s = signo(numero)\n",
    "    parte_entera = int(abs(numero))\n",
    "    parte_fraccionaria = abs(numero) - parte_entera\n",
    "    e = exponente_binario_64(parte_entera, parte_fraccionaria)\n",
    "    m = obtener_mantisa_64(parte_entera, parte_fraccionaria)\n",
    "    ieee754 = s + \" \" + e + \" \" + m\n",
    "    print(f\"Signo:{s}\")\n",
    "    print(f\"Exponente:{e}\")\n",
    "    print(f\"Mantisa:{m}\")\n",
    "    print(f\"IEEE-754 de 64 bits:{ieee754}\")\n",
    "    return None\n",
    "\n",
    "convertir_a_ieee754_64(263.3)"
   ]
  },
  {
   "cell_type": "markdown",
   "id": "addf768e",
   "metadata": {},
   "source": [
    "<h3 style=\"text-align: left; color: red;\">Aritmética de Computador</h3>\n",
    "\n",
    "Hace referencia a la representación en punto flotante y sus operaciones definidas, mostradas a continuación:"
   ]
  },
  {
   "cell_type": "code",
   "execution_count": 7,
   "id": "c9711f41",
   "metadata": {},
   "outputs": [
    {
     "name": "stdout",
     "output_type": "stream",
     "text": [
      "Las operaciones de los siguientes numeros: A = 0.71429 y B = 0.71425\n",
      "Suma Flotante: 0.14285399999999998\n",
      "Resta Flotante: 3.999999999992898e-05\n",
      "Multiplicacion Flotante: 0.5101816325\n",
      "Division Flotante: 0.100005600280014\n",
      "Error relativo % de la multiplicacion: 0.00045999235563390015 %\n"
     ]
    }
   ],
   "source": [
    "def numero_a_flotante(digito):\n",
    "    if digito == 0:\n",
    "        numero = 0.0\n",
    "        return numero\n",
    "    else:\n",
    "        while abs(digito) >= 1:\n",
    "            digito /= 10\n",
    "        return digito\n",
    "\n",
    "def suma_flotante(digitoA, digitoB):\n",
    "    resultado = digitoA + digitoB\n",
    "    return numero_a_flotante(resultado)\n",
    "\n",
    "def resta_flotante(digitoA, digitoB):\n",
    "    resultado = digitoA - digitoB\n",
    "    return numero_a_flotante(resultado)\n",
    "\n",
    "def multiplicacion_flotante(digitoA, digitoB):\n",
    "    resultado = digitoA * digitoB\n",
    "    return numero_a_flotante(resultado)\n",
    "\n",
    "def division_flotante(digitoA, digitoB):\n",
    "    if digitoB == 0:\n",
    "        print(\"No existe la division para 0.\")\n",
    "        return None\n",
    "    else:\n",
    "        resultado = digitoA / digitoB\n",
    "        return numero_a_flotante(resultado)\n",
    "    \n",
    "def error_relativo_porcentual(valorReal, valorAprox):\n",
    "    if valorReal == 0:\n",
    "        print(\"No se puede calcular.\")\n",
    "        return None \n",
    "    error = abs((valorReal - valorAprox)/(valorReal)) * 100\n",
    "    return error\n",
    "\n",
    "# Ejemplos\n",
    "digitoA = 0.71429\n",
    "digitoA_real = 5/7\n",
    "digitoA_flotante = numero_a_flotante(digitoA)\n",
    "digitoB = 0.71425\n",
    "digitoB_real = 0.714251\n",
    "digitoB_flotante = numero_a_flotante(digitoB)\n",
    "\n",
    "multiplicacionAprox = multiplicacion_flotante(digitoA_flotante, digitoB_flotante)\n",
    "multiplicacionReal  = digitoA_real * digitoB_real\n",
    "\n",
    "print(f\"Las operaciones de los siguientes numeros: A = {digitoA_flotante} y B = {digitoB_flotante}\")\n",
    "print(f\"Suma Flotante: {suma_flotante(digitoA_flotante,digitoB_flotante)}\")\n",
    "print(f\"Resta Flotante: {resta_flotante(digitoA_flotante,digitoB_flotante)}\")\n",
    "print(f\"Multiplicacion Flotante: {multiplicacion_flotante(digitoA_flotante,digitoB_flotante)}\")\n",
    "print(f\"Division Flotante: {division_flotante(digitoA_flotante,digitoB_flotante)}\")\n",
    "print(f\"Error relativo % de la multiplicacion: {error_relativo_porcentual(multiplicacionReal,multiplicacionAprox)} %\")"
   ]
  },
  {
   "cell_type": "markdown",
   "id": "e5eb2d81",
   "metadata": {},
   "source": [
    "<h3 style=\"text-align: left; color: red;\">Convergencia, Divergencia y Tolerancia</h3>\n",
    "\n",
    "- Convergencia: Cuando al aumentar las iteraciones, el valor se acerca hacia un valor puntual.\n",
    "- Divergencia: Cuando al aumentar las iteraciones, el valor se aleja de forma indefinida o inestable.\n",
    "<!-- - Tolerancia: Límite aceptable del error al momento de establecer criterios de parada. -->"
   ]
  },
  {
   "cell_type": "code",
   "execution_count": 18,
   "id": "279f4a0a",
   "metadata": {},
   "outputs": [
    {
     "data": {
      "image/png": "[encoded data removed]",
      "text/plain": [
       "<Figure size 800x500 with 1 Axes>"
      ]
     },
     "metadata": {},
     "output_type": "display_data"
    }
   ],
   "source": [
    "import matplotlib.pyplot as plot\n",
    "import numpy as np\n",
    "\n",
    "iteraciones = np.linspace(1,20,20)\n",
    "\n",
    "def convergencia(x):\n",
    "    return np.exp(-0.5*x)\n",
    "\n",
    "def divergencia(x):\n",
    "    return np.exp(0.2*x)\n",
    "\n",
    "def oscilacion(x):\n",
    "    return np.abs(np.sin(x))\n",
    "\n",
    "yConv = convergencia(iteraciones)\n",
    "yDiv  = divergencia(iteraciones)\n",
    "yOs   = oscilacion(iteraciones)\n",
    "\n",
    "plot.figure(figsize=(8,5))\n",
    "plot.plot(iteraciones,yConv,color=\"blue\",label=\"Convergencia\")\n",
    "plot.plot(iteraciones,yDiv,color=\"pink\",label=\"Divergencia\")\n",
    "plot.plot(iteraciones,yOs,color=\"red\",label=\"Osilacion\")\n",
    "plot.xlabel(\"Iteraciones\")\n",
    "plot.title(\"Convergencia, divergencia y oscilacion del coseno\")\n",
    "plot.grid(True)\n"
   ]
  },
  {
   "cell_type": "markdown",
   "id": "2ee52ccc",
   "metadata": {},
   "source": [
    "<h3 style=\"text-align: left; color: red;\">Criterios de Parada</h3>\n",
    "\n",
    "Los criterios de parada son condiciones que indican al código/algoritmo cuando debe detenerse, siendo esto fundamental para evitar iteraciones infinitas o asegurar una tolerancia."
   ]
  },
  {
   "cell_type": "code",
   "execution_count": 7,
   "id": "58e47468",
   "metadata": {},
   "outputs": [
    {
     "name": "stdout",
     "output_type": "stream",
     "text": [
      "Converge con error absoluto en la iteración 6.\n",
      "Resultado: 0.6190612833553127\n",
      "0.6190612833553127\n"
     ]
    }
   ],
   "source": [
    "import math\n",
    "\n",
    "def metodo_newton_raphson():\n",
    "    valor_inicial = 1.0\n",
    "    max_iteraciones = 50\n",
    "    tolerancia_absoluta = 1e-6\n",
    "    tolerancia_relativa = 1e-6\n",
    "    tolerancia_funcion = 1e-6\n",
    "\n",
    "    def funcion(x):\n",
    "        return math.exp(x) - 3 * x\n",
    "\n",
    "    def derivada_funcion(x):\n",
    "        return math.exp(x) - 3\n",
    "\n",
    "    aproximacion_actual = valor_inicial\n",
    "\n",
    "    for iteracion in range(1, max_iteraciones + 1):\n",
    "        valor_funcion = funcion(aproximacion_actual)\n",
    "        valor_derivada = derivada_funcion(aproximacion_actual)\n",
    "\n",
    "        if valor_derivada == 0:\n",
    "            print(f\"Derivada cero en la iteración {iteracion}, no se puede continuar.\")\n",
    "            break\n",
    "\n",
    "        nueva_aproximacion = aproximacion_actual - valor_funcion / valor_derivada\n",
    "        error_absoluto = abs(nueva_aproximacion - aproximacion_actual)\n",
    "\n",
    "        if abs(nueva_aproximacion) != 0:\n",
    "            error_relativo = error_absoluto / abs(nueva_aproximacion)\n",
    "        else:\n",
    "            error_relativo = float('inf')  # Evita división por cero\n",
    "\n",
    "        if error_absoluto < tolerancia_absoluta:\n",
    "            print(f\"Converge con error absoluto en la iteración {iteracion}.\")\n",
    "            break\n",
    "        if error_relativo < tolerancia_relativa:\n",
    "            print(f\"Converge con error relativo en la iteración {iteracion}.\")\n",
    "            break\n",
    "        if abs(valor_funcion) < tolerancia_funcion:\n",
    "            print(f\"Converge en el valor de la función en la iteración {iteracion}.\")\n",
    "            break\n",
    "\n",
    "        aproximacion_actual = nueva_aproximacion\n",
    "\n",
    "    else:\n",
    "        print(\"Parada por máximo de iteraciones.\")\n",
    "    \n",
    "    print(f\"Resultado: {aproximacion_actual}\")\n",
    "    return aproximacion_actual\n",
    "\n",
    "resultado = metodo_newton_raphson()\n",
    "print(resultado)\n"
   ]
  },
  {
   "cell_type": "markdown",
   "id": "c764a265",
   "metadata": {},
   "source": [
    "<h3 style=\"text-align: left; color: red;\">Método de la bisección</h3>\n",
    "\n",
    "Se parte de un intervalo $[a,b]$ tal que $f(a)$ y $f(b)$ tienen signos opuestos(cumplen el teorema de cambio de signo), garantizando que se encontrará una raíz en el intervalo por el teorema del valor intermedio, esto calculado mediante: $$c=\\frac{a+b}{2}$$"
   ]
  },
  {
   "cell_type": "code",
   "execution_count": 12,
   "id": "2da1364e",
   "metadata": {},
   "outputs": [
    {
     "name": "stdout",
     "output_type": "stream",
     "text": [
      "=====Metodo de la biseccion=====\n",
      "Procedimiento fue exitoso \n",
      "Raíz aproximada: 1.4142141342163086\n"
     ]
    }
   ],
   "source": [
    "def evaluar(x):\n",
    "    return x**2 - 2\n",
    "\n",
    "def signum(valor):\n",
    "    if valor < 0:\n",
    "        return -1\n",
    "    elif valor > 0:\n",
    "        return 1\n",
    "    else:\n",
    "        return 0\n",
    "\n",
    "def metodo_biseccion(a, b, tolerancia, iteraciones_maximas):\n",
    "    i = 1\n",
    "    FA = evaluar(a)\n",
    "\n",
    "    while i <= iteraciones_maximas:\n",
    "        punto_medio = a + (b - a) / 2\n",
    "        FP = evaluar(punto_medio)\n",
    "\n",
    "        if FP == 0 or (b - a) / 2 < tolerancia:\n",
    "            print(f\"Procedimiento fue exitoso \")\n",
    "            print(f\"Raíz aproximada: {punto_medio}\")\n",
    "            return None\n",
    "\n",
    "        i = i + 1\n",
    "\n",
    "        if ((signum(FA) * signum(FP)) > 0):\n",
    "            a = punto_medio\n",
    "            FA = FP\n",
    "        else:\n",
    "            b = punto_medio\n",
    "\n",
    "    print(f\"El método fracasó después de iteraciones_maximas = {iteraciones_maximas} iteraciones.\")\n",
    "    return None\n",
    "\n",
    "print(\"=====Metodo de la biseccion=====\")\n",
    "a = float(input(\"Ingrese a: \"))\n",
    "b = float(input(\"Ingrese b: \"))\n",
    "tolerancia = float(input(\"Ingrese la tolerancia en formato decimal: \"))\n",
    "iteraciones_maximas = int(input(\"Ingrese el numero de iteraciones maximas: \"))\n",
    "\n",
    "metodo_biseccion(a,b,tolerancia, iteraciones_maximas)"
   ]
  },
  {
   "cell_type": "markdown",
   "id": "c7aa47cc",
   "metadata": {},
   "source": [
    "<h3 style=\"text-align: left; color: red;\">Método de Newton-Raphson</h3>\n",
    "\n",
    "Se parte de una sola aproximación inicial $x_0$, asumiendo que está lo suficientemente cerca de una raíz de la función. Este método utiliza la derivada de la función para construir una recta tangente en el punto $(x_n, f(x_n))$, y encuentra la intersección de esa tangente con el eje $x$, lo que proporciona una nueva aproximación a la raíz. Esta se calcula mediante:\n",
    "\n",
    "$$x_{n+1} = x_n - \\frac{f(x_n)}{f'(x_n)}$$"
   ]
  },
  {
   "cell_type": "code",
   "execution_count": 31,
   "id": "4cef02f7",
   "metadata": {},
   "outputs": [
    {
     "name": "stdout",
     "output_type": "stream",
     "text": [
      "=====Metodo de Newton-Raphson=====\n",
      "El procedimiento fue exitoso\n"
     ]
    },
    {
     "data": {
      "text/latex": [
       "$\\displaystyle 1.4142135623731$"
      ],
      "text/plain": [
       "1.41421356237310"
      ]
     },
     "execution_count": 31,
     "metadata": {},
     "output_type": "execute_result"
    }
   ],
   "source": [
    "import sympy as smp\n",
    "\n",
    "\n",
    "x = smp.Symbol('x')\n",
    "\n",
    "funcion = x**2 - 2\n",
    "f_derivada = smp.diff(funcion, x)\n",
    "\n",
    "def evaluar(punto):\n",
    "    return funcion.subs(x, punto).evalf()\n",
    "\n",
    "def evaluar_derivada(punto):\n",
    "    return f_derivada.subs(x, punto).evalf()\n",
    "\n",
    "def metodo_newton(p_0, tolerancia, iteraciones_maximas):\n",
    "    i = 1  \n",
    "\n",
    "    while i <= iteraciones_maximas:  \n",
    "\n",
    "        f = evaluar(p_0)\n",
    "        f_derivada = evaluar_derivada(p_0)\n",
    "\n",
    "        p = p_0 - (f / f_derivada)  \n",
    "\n",
    "        if abs(p - p_0) < tolerancia:\n",
    "            print(\"El procedimiento fue exitoso\")\n",
    "            return p.evalf()\n",
    "\n",
    "        i += 1  \n",
    "        p_0 = p  \n",
    "\n",
    "    print(f\"El metodo fallo después de {iteraciones_maximas} iteraciones.\")\n",
    "    return None\n",
    "\n",
    "print(\"=====Metodo de Newton-Raphson=====\")\n",
    "p_0 = float(input(\"Ingrese p_0: \"))\n",
    "tolerancia = float(input(\"Ingrese la tolerancia en formato decimal: \"))\n",
    "iteraciones_maximas = int(input(\"Ingrese el numero maximo de iteraciones : \"))\n",
    "\n",
    "metodo_newton(p_0, tolerancia, iteraciones_maximas)\n",
    "        "
   ]
  },
  {
   "cell_type": "markdown",
   "id": "558e6786",
   "metadata": {},
   "source": [
    "<h3 style=\"text-align: left; color: red;\">Método de la secante</h3>\n",
    "\n",
    "Se parte de dos aproximaciones iniciales $x_0$ y $x_1$ tales que $f(x_0)$ y $f(x_1)$, donde se asume que están lo suficientemente cerca de una raíz. A diferencia del método de bisección, este no requiere que la función cambie de signo, y en lugar de usar el punto medio, se utiliza la intersección de la secante que une los puntos $(x_0, f(x_0))$ y $(x_1, f(x_1))$ con el eje $x$, calculada mediante:\n",
    "\n",
    "$$x_{n+1} = x_n - f(x_n) \\cdot \\frac{x_n - x_{n-1}}{f(x_n) - f(x_{n-1})}$$\n",
    "\n"
   ]
  },
  {
   "cell_type": "code",
   "execution_count": null,
   "id": "19bef837",
   "metadata": {},
   "outputs": [
    {
     "name": "stdout",
     "output_type": "stream",
     "text": [
      "=====Metodo de la secante en Python=====\n",
      "El procedimiento fue exitoso\n"
     ]
    },
    {
     "data": {
      "text/plain": [
       "1.4142135623730947"
      ]
     },
     "execution_count": 3,
     "metadata": {},
     "output_type": "execute_result"
    }
   ],
   "source": [
    "def evaluar(x):\n",
    "    return (x*x)-2\n",
    "\n",
    "def metodo_secante(p_0,p_1, iteraciones_maximas, tolerancia):\n",
    "    \n",
    "    q_0 = evaluar(p_0)\n",
    "    q_1 = evaluar(p_1)\n",
    "    i= 2\n",
    "\n",
    "    while (i<=iteraciones_maximas):\n",
    "        \n",
    "        p = p_1 - ((q_1 * (p_1 - p_0))/(q_1 - q_0))\n",
    "\n",
    "        if (abs(p-p_1) < tolerancia):\n",
    "            print(\"El procedimiento fue exitoso\")\n",
    "            return p\n",
    "\n",
    "        i = i +1\n",
    "        \n",
    "        p_0 = p_1\n",
    "        q_0 = q_1\n",
    "        p_1 = p\n",
    "        q_1 = evaluar(p)\n",
    "    \n",
    "    print(\"El método falló después de \",iteraciones_maximas,\" iteraciones, N_0 = \",iteraciones_maximas)\n",
    "    return None\n",
    "\n",
    "print(\"=====Metodo de la secante=====\")\n",
    "p_0 = float(input(\"Ingrese p_0: \"))\n",
    "p_1 = float(input(\"Ingrese p_1: \"))\n",
    "tolerancia = float(input(\"Ingrese la tolerancia en formato decimal: \"))\n",
    "iteraciones_maximas = int(input(\"Ingrese el numero de iteraciones maximas: \"))\n",
    "\n",
    "metodo_secante(p_0,p_1, iteraciones_maximas, tolerancia)"
   ]
  },
  {
   "cell_type": "markdown",
   "id": "9ef52627",
   "metadata": {},
   "source": [
    "\n",
    "<h3 style=\"text-align: left; color: red;\">Método de la posición falsa</h3>\n",
    "\n",
    "Se parte de un intervalo inicial $[a, b]$ tal que $f(a)$ y $f(b)$ tienen signos opuestos, cumpliendo el teorema del valor intermedio, lo que garantiza la existencia de al menos una raíz en el intervalo. A diferencia del método de bisección, en lugar de usar el punto medio, se utiliza la intersección de la recta secante que une los puntos $(a, f(a))$ y $(b, f(b))$ con el eje $x$, calculada mediante:\n",
    "\n",
    "$$c = b - f(b) \\cdot \\frac{b - a}{f(b) - f(a)}$$\n"
   ]
  },
  {
   "cell_type": "code",
   "execution_count": 34,
   "id": "90b924dc",
   "metadata": {},
   "outputs": [
    {
     "name": "stdout",
     "output_type": "stream",
     "text": [
      "=====Metodo Regula-Falsi=====\n",
      "El procedimiento fue exitoso\n"
     ]
    },
    {
     "data": {
      "text/plain": [
       "1.4142137660884164"
      ]
     },
     "execution_count": 34,
     "metadata": {},
     "output_type": "execute_result"
    }
   ],
   "source": [
    "def evaluar(x):\n",
    "    return (x*x)-2\n",
    "\n",
    "def signum(valor):\n",
    "    if valor < 0:\n",
    "        return -1\n",
    "    elif valor > 0:\n",
    "        return 1\n",
    "    else:\n",
    "        return 0\n",
    "    \n",
    "def metodo_regulaFalsi(p_0, p_1, tolerancia, iteraciones_maximas):\n",
    "    i = 2\n",
    "    \n",
    "    q_0 = evaluar(p_0)\n",
    "    q_1 = evaluar(p_1)\n",
    "\n",
    "    while(i < iteraciones_maximas):\n",
    "        \n",
    "        p = p_1 - (q_1 * (p_1 - p_0)/(q_1 - q_0))\n",
    "\n",
    "        if(abs(p - p_1) < tolerancia):\n",
    "            print(\"El procedimiento fue exitoso\")\n",
    "            return p\n",
    "        \n",
    "        i += 1\n",
    "        q = evaluar(p)\n",
    "\n",
    "        if((signum(q) * signum(q_1)) < 0):\n",
    "            p_0 = p_1\n",
    "            q_0 = q_1\n",
    "        else:\n",
    "            p_1 = p\n",
    "            q_1 = q\n",
    "    \n",
    "    print(f\"El metodo fallo despues de {iteraciones_maximas} iteraciones\")\n",
    "\n",
    "print(\"=====Metodo Regula-Falsi=====\")\n",
    "p_0 = float(input(\"Ingrese p_0: \"))\n",
    "p_1 = float(input(\"Ingrese p_1: \"))\n",
    "tolerancia = float(input(\"Ingrese la tolerancia en formato decimal: \"))\n",
    "iteraciones_maximas = int(input(\"Ingrese el numero de iteraciones maximas: \"))\n",
    "\n",
    "metodo_regulaFalsi(p_0, p_1, tolerancia, iteraciones_maximas)"
   ]
  },
  {
   "cell_type": "markdown",
   "id": "709e3963",
   "metadata": {},
   "source": [
    "\n",
    "<h3 style=\"text-align: left; color: red;\">Polinomio de Taylor</h3>\n",
    "\n",
    "El polinomio de Taylor es una aproximación polinómica de una función  $f(x)$ alrededor de un punto  $a$, utilizando derivadas sucesivas de la función en ese punto. Esta aproximación permite representar funciones complicadas mediante polinomios, que son más fáciles de evaluar y manipular. El polinomio de Taylor de orden  $n$ se define como:\n",
    "\n",
    "$$P_n(x) = f(a) + f'(a)(x - a) + \\frac{f''(a)}{2!}(x - a)^2 + \\cdots + \\frac{f^{(n)}(a)}{n!}(x - a)^n$$\n"
   ]
  },
  {
   "cell_type": "code",
   "execution_count": 35,
   "id": "c2319c69",
   "metadata": {},
   "outputs": [
    {
     "name": "stdout",
     "output_type": "stream",
     "text": [
      "0.03956*x**4+-0.83349*x**3+1.6257*x**2+0.34421*x**1+1.14379*x**0\n",
      "P_n(x) ≈ 0.03956*x**4 - 0.83349*x**3 + 1.6257*x**2 + 0.34421*x + 1.14379\n",
      "R_n(x) ≈ ( 0.00833*exp(sin(x))^(5)(ξ(x)) )*(x**5 - 5*x**4 + 10*x**3 - 10*x**2 + 5*x - 1)\n",
      "f(x) ≈ 0.03956*x**4 - 0.83349*x**3 + 1.6257*x**2 + 0.34421*x + 1.14379 + ( 0.00833*exp(sin(x))^(5)(ξ(x)) )*(x**5 - 5*x**4 + 10*x**3 - 10*x**2 + 5*x - 1)\n"
     ]
    }
   ],
   "source": [
    "import sympy as sp\n",
    "from sympy import Poly\n",
    "\n",
    "def truncar(digito, digitos_truncamiento):\n",
    "    digito_string = str(digito)\n",
    "\n",
    "    negativo = digito_string.startswith(\"-\")\n",
    "    if negativo:\n",
    "        digito_string = digito_string[1:]\n",
    "\n",
    "    if \".\" in digito_string:\n",
    "        parte_entera, parte_decimal = digito_string.split(\".\")\n",
    "        parte_decimal_truncada = parte_decimal[:digitos_truncamiento]\n",
    "    else:\n",
    "        parte_entera = digito_string\n",
    "        parte_decimal_truncada = \"0\"\n",
    "\n",
    "    digito_truncado = parte_entera + \".\" + parte_decimal_truncada\n",
    "    if negativo:\n",
    "        digito_truncado = \"-\" + digito_truncado\n",
    "\n",
    "    return float(digito_truncado)\n",
    "\n",
    "def polinomio_taylor(func_str, x0, grado, decimales):\n",
    "    \n",
    "    x = sp.Symbol('x')\n",
    "    f = sp.sympify(func_str)\n",
    "\n",
    "    taylor_expr = 0\n",
    "\n",
    "    for n in range(grado + 1):\n",
    "        derivada = f.diff(x, n)\n",
    "        deriv_val = derivada.subs(x, x0)\n",
    "        factorial_n = sp.factorial(n)\n",
    "        coef = deriv_val / factorial_n\n",
    "\n",
    "        if coef.is_number:\n",
    "            coef = truncar(float(coef), decimales)\n",
    "\n",
    "        if coef == 0:\n",
    "            continue\n",
    "\n",
    "        base = (x - x0)**n if x0 != 0 else x**n\n",
    "        taylor_expr += coef * base\n",
    "\n",
    "    taylor_expr = sp.expand(taylor_expr)\n",
    "    taylor_expr = sp.collect(taylor_expr, x)\n",
    "\n",
    "    \n",
    "    \n",
    "    p = Poly(taylor_expr, x)\n",
    "\n",
    "    lista = p.all_coeffs()\n",
    "    pa = [str(truncar(lista[grado-n], decimales))+\"*x**\"+str(n) for n in range(grado, -1, -1)]\n",
    "    expresionfinal = \"+\".join(pa)\n",
    "    print(expresionfinal)\n",
    "    taylor_expr = sp.sympify(expresionfinal)\n",
    "\n",
    "    Pn_str = str(taylor_expr)\n",
    "\n",
    "    n_plus_1 = grado + 1\n",
    "    factorial_np1 = sp.factorial(n_plus_1)\n",
    "    inverso_truncado = truncar(1 / float(factorial_np1), decimales)\n",
    "\n",
    "    base_error = sp.expand((x - x0)**n_plus_1)\n",
    "    Rn_str = f\"( {inverso_truncado}*{func_str}^({n_plus_1})(ξ(x)) )*({base_error})\"\n",
    "\n",
    "    print(f\"P_n(x) ≈ {Pn_str}\")\n",
    "    print(f\"R_n(x) ≈ {Rn_str}\")\n",
    "\n",
    "    return f\"f(x) ≈ {Pn_str} + {Rn_str}\"\n",
    "\n",
    "print(polinomio_taylor(\"exp(sin(x))\", x0=1, grado=4, decimales=5))"
   ]
  },
  {
   "cell_type": "markdown",
   "id": "a907cf25",
   "metadata": {},
   "source": [
    "<h3 style=\"text-align: left; color: red;\">Series de Maclaurin </h3>\n",
    "\n",
    "\n",
    "La serie de Maclaurin es un caso particular del polinomio de Taylor centrado en el punto $x_0=0$. Se utiliza para aproximar funciones mediante una suma infinita de términos derivados de las derivadas sucesivas de la función evaluadas en cero. La serie de Maclaurin para una función $f(x)$ se expresa como:\n",
    "\n",
    "$$f(x) = f(0) + f'(0)x + \\frac{f''(0)}{2!}x^2 + \\frac{f^{(3)}(0)}{3!}x^3 + \\cdots + \\frac{f^{(n)}(0)}{n!}x^n + \\cdots$$\n"
   ]
  },
  {
   "cell_type": "code",
   "execution_count": 40,
   "id": "7fc0a382",
   "metadata": {},
   "outputs": [
    {
     "name": "stdout",
     "output_type": "stream",
     "text": [
      "-0.00081*x**10+0.00017*x**9+0.00538*x**8+0.01111*x**7+-0.00416*x**6+-0.06666*x**5+-0.125*x**4+0.0*x**3+0.5*x**2+1.0*x**1+1.0*x**0\n",
      "P_n(x) ≈ -0.00081*x**10 + 0.00017*x**9 + 0.00538*x**8 + 0.01111*x**7 - 0.00416*x**6 - 0.06666*x**5 - 0.125*x**4 + 0.5*x**2 + 1.0*x + 1.0\n",
      "R_n(x) ≈ ( 2.50521*exp(sin(x))^(11)(ξ(x)) )*(x**11)\n"
     ]
    },
    {
     "data": {
      "image/png": "[encoded data removed]",
      "text/plain": [
       "<Figure size 1000x600 with 1 Axes>"
      ]
     },
     "metadata": {},
     "output_type": "display_data"
    }
   ],
   "source": [
    "import sympy as sp\n",
    "import numpy as np\n",
    "import matplotlib.pyplot as plt\n",
    "\n",
    "def grafica_maclaurin(func_str, grado, decimales, intervalo=(-2, 2)):\n",
    "    x = sp.Symbol('x')\n",
    "    \n",
    "    resultado = polinomio_taylor(func_str, x0=0, grado=grado, decimales=decimales)\n",
    "    \n",
    "    polinomio_str = resultado.split('+')[0].replace(\"f(x) ≈ \", \"\").strip()\n",
    "    polinomio_expr = sp.sympify(polinomio_str)\n",
    "\n",
    "    f = sp.lambdify(x, sp.sympify(func_str), \"numpy\")\n",
    "    p = sp.lambdify(x, polinomio_expr, \"numpy\")\n",
    "\n",
    "    x_vals = np.linspace(intervalo[0], intervalo[1], 400)\n",
    "    y_f = f(x_vals)\n",
    "    y_p = p(x_vals)\n",
    "\n",
    "    plt.figure(figsize=(10,6))\n",
    "    plt.plot(x_vals, y_f, label=f'f(x) = {func_str}', color='blue')\n",
    "    plt.plot(x_vals, y_p, label=f'Polinomio de Maclaurin grado {grado}', linestyle='--', color='red')\n",
    "    plt.title(f'Aproximación de f(x) con P_{grado}(x)')\n",
    "    plt.xlabel('x')\n",
    "    plt.ylabel('y')\n",
    "    plt.legend()\n",
    "    plt.grid(True)\n",
    "    plt.show()\n",
    "\n",
    "grafica_maclaurin(\"exp(sin(x))\", grado=10, decimales=5)"
   ]
  },
  {
   "cell_type": "markdown",
   "id": "20e000db",
   "metadata": {},
   "source": [
    "\n",
    "<h3 style=\"text-align: left; color: red;\">Polinomio de Lagrange</h3>\n",
    "\n",
    "El polinomio de Lagrange es una técnica de interpolación que permite construir un polinomio que pasa exactamente por un conjunto de puntos dados $(x_0, y_0), (x_1, y_1), \\ldots, (x_n, y_n)$. \n"
   ]
  },
  {
   "cell_type": "code",
   "execution_count": 38,
   "id": "375287d0",
   "metadata": {},
   "outputs": [
    {
     "name": "stdout",
     "output_type": "stream",
     "text": [
      "4.01265*x**2+-7.36725*x**1+6.0729*x**0\n",
      "P_n(x) ≈ 4.01265*x**2 - 7.36725*x + 6.0729\n",
      "R_n(x) ≈ ( f^3(ξ(x)) / 6 )*(x**3 - 6*x**2 + 11*x - 6)\n",
      "f(x) ≈ 4.01265*x**2 - 7.36725*x + 6.0729 + ( f^3(ξ(x)) / 6 )*(x**3 - 6*x**2 + 11*x - 6)\n"
     ]
    }
   ],
   "source": [
    "import sympy as sp\n",
    "from sympy import Poly\n",
    "\n",
    "def truncar(digito, digitos_truncamiento):\n",
    "    digito_string = str(digito)\n",
    "\n",
    "    negativo = digito_string.startswith(\"-\")\n",
    "    if negativo:\n",
    "        digito_string = digito_string[1:]\n",
    "\n",
    "    if \".\" in digito_string:\n",
    "        parte_entera, parte_decimal = digito_string.split(\".\")\n",
    "        parte_decimal_truncada = parte_decimal[:digitos_truncamiento]\n",
    "    else:\n",
    "        parte_entera = digito_string\n",
    "        parte_decimal_truncada = \"0\"\n",
    "\n",
    "    digito_truncado = parte_entera + \".\" + parte_decimal_truncada\n",
    "    if negativo:\n",
    "        digito_truncado = \"-\" + digito_truncado\n",
    "\n",
    "    return float(digito_truncado)\n",
    "\n",
    "def polinomio_lagrange(puntos, decimales):\n",
    "    x = sp.Symbol('x')\n",
    "    n = len(puntos)\n",
    "    L = 0\n",
    "\n",
    "    for i in range(n):\n",
    "        xi, yi = puntos[i]\n",
    "        termino = 1\n",
    "        for j in range(n):\n",
    "            if j != i:\n",
    "                xj, _ = puntos[j]\n",
    "                termino *= (x - xj) / (xi - xj)\n",
    "        L += yi * termino\n",
    "\n",
    "    L_expandido = sp.expand(L)\n",
    "    L_expandido = sp.collect(L_expandido, x)\n",
    "\n",
    "    p = Poly(L_expandido, x)\n",
    "    coeficientes = p.all_coeffs()\n",
    "    grado = len(coeficientes) - 1\n",
    "    pa = [str(truncar(coeficientes[k], decimales)) + \"*x**\" + str(grado - k) for k in range(grado + 1)]\n",
    "    expresion_final = \"+\".join(pa)\n",
    "    print(expresion_final)\n",
    "\n",
    "    polinomio_limpio = sp.sympify(expresion_final)\n",
    "\n",
    "    x_nodos = [p[0] for p in puntos]\n",
    "    base_error = 1\n",
    "    for xi in x_nodos:\n",
    "        base_error *= (x - xi)\n",
    "    base_error = sp.expand(base_error)\n",
    "    Rn_str = f\"( f^{n}(ξ(x)) / {sp.factorial(n)} )*({base_error})\"\n",
    "\n",
    "    print(f\"P_n(x) ≈ {polinomio_limpio}\")\n",
    "    print(f\"R_n(x) ≈ {Rn_str}\")\n",
    "\n",
    "    return f\"f(x) ≈ {polinomio_limpio} + {Rn_str}\"\n",
    "\n",
    "puntos = [(1, 2.7183), (2, 7.389), (3, 20.085)]\n",
    "print(polinomio_lagrange(puntos, decimales=5))"
   ]
  },
  {
   "cell_type": "markdown",
   "id": "d51aa8b0",
   "metadata": {},
   "source": [
    "\n",
    "<h3 style=\"text-align: left; color: red;\">Splines cúbicos</h3>\n",
    "\n",
    "Los splines cúbicos son funciones polinómicas por tramos que se utilizan para interpolar un conjunto de puntos de forma suave. Cada tramo entre dos puntos consecutivos se aproxima mediante un polinomio de grado tres, y se garantiza que la función resultante sea continua y tenga derivadas de igual forma continuas hasta el segundo orden.\n"
   ]
  },
  {
   "cell_type": "code",
   "execution_count": null,
   "id": "609aae3d",
   "metadata": {},
   "outputs": [
    {
     "name": "stdout",
     "output_type": "stream",
     "text": [
      "\n",
      "Polinomio S_0(x) en [0, 1]:\n",
      "S_0(x) = 1.0 + 2.06666*(x - 0) + 0.0*(x - 0)^2 + -1.06666*(x - 0)^3\n",
      "\n",
      "Polinomio S_1(x) en [1, 2]:\n",
      "S_1(x) = 2.0 + -1.13333*(x - 1) + -3.2*(x - 1)^2 + 2.33333*(x - 1)^3\n",
      "\n",
      "Polinomio S_2(x) en [2, 3]:\n",
      "S_2(x) = 0.0 + -0.53333*(x - 2) + 3.8*(x - 2)^2 + -1.26666*(x - 2)^3\n"
     ]
    }
   ],
   "source": [
    "def truncar(digito, decimales):\n",
    "    digito_string = str(digito)\n",
    "    negativo = digito_string.startswith(\"-\")\n",
    "    if negativo:\n",
    "        digito_string = digito_string[1:]\n",
    "    if \".\" in digito_string:\n",
    "        parte_entera, parte_decimal = digito_string.split(\".\")\n",
    "        parte_decimal_truncada = parte_decimal[:decimales]\n",
    "    else:\n",
    "        parte_entera = digito_string\n",
    "        parte_decimal_truncada = \"0\"\n",
    "    digito_truncado = parte_entera + \".\" + parte_decimal_truncada\n",
    "    if negativo:\n",
    "        digito_truncado = \"-\" + digito_truncado\n",
    "    return float(digito_truncado)\n",
    "\n",
    "def spline_natural(n, puntos_x, lista_a, decimales=5):\n",
    "    h = [0] * n\n",
    "    for i in range(n):\n",
    "        h[i] = puntos_x[i + 1] - puntos_x[i]\n",
    "\n",
    "    alpha = [0] * n\n",
    "    for i in range(1, n):\n",
    "        alpha[i] = (3 / h[i]) * (lista_a[i + 1] - lista_a[i]) - (3 / h[i - 1]) * (lista_a[i] - lista_a[i - 1])\n",
    "\n",
    "    l = [0] * (n + 1)\n",
    "    mu = [0] * (n + 1)\n",
    "    z = [0] * (n + 1)\n",
    "    c = [0] * (n + 1)\n",
    "\n",
    "    l[0] = 1\n",
    "    mu[0] = 0\n",
    "    z[0] = 0\n",
    "\n",
    "    for i in range(1, n):\n",
    "        l[i] = 2 * (puntos_x[i + 1] - puntos_x[i - 1]) - h[i - 1] * mu[i - 1]\n",
    "        mu[i] = h[i] / l[i]\n",
    "        z[i] = (alpha[i] - h[i - 1] * z[i - 1]) / l[i]\n",
    "\n",
    "    l[n] = 1\n",
    "    z[n] = 0\n",
    "    c[n] = 0\n",
    "\n",
    "    b = [0] * n\n",
    "    d = [0] * n\n",
    "    a = lista_a[:]  \n",
    "\n",
    "    for j in range(n - 1, -1, -1):\n",
    "        c[j] = z[j] - mu[j] * c[j + 1]\n",
    "        b[j] = (a[j + 1] - a[j]) / h[j] - h[j] * (c[j + 1] + 2 * c[j]) / 3\n",
    "        d[j] = (c[j + 1] - c[j]) / (3 * h[j])\n",
    "\n",
    "    for j in range(n):\n",
    "        aj = truncar(a[j], decimales)\n",
    "        bj = truncar(b[j], decimales)\n",
    "        cj = truncar(c[j], decimales)\n",
    "        dj = truncar(d[j], decimales)\n",
    "        xj = puntos_x[j]\n",
    "        print(f\"\\nPolinomio S_{j}(x) en [{xj}, {puntos_x[j+1]}]:\")\n",
    "        print(f\"S_{j}(x) = {aj} + {bj}*(x - {xj}) + {cj}*(x - {xj})^2 + {dj}*(x - {xj})^3\")\n",
    "\n",
    "    return\n",
    "\n",
    "n = 3\n",
    "puntos_x = [0, 1, 2, 3]\n",
    "lista_a = [1, 2, 0, 2]\n",
    "spline_natural(n, puntos_x, lista_a, decimales=5)"
   ]
  },
  {
   "cell_type": "code",
   "execution_count": 43,
   "id": "26615a65",
   "metadata": {},
   "outputs": [
    {
     "name": "stdout",
     "output_type": "stream",
     "text": [
      "\n",
      "Polinomio S_0(x) en [0, 1]:\n",
      "S_0(x) = 1.0 + 1.0*(x - 0) + 2.13333*(x - 0)^2 + -2.13333*(x - 0)^3\n",
      "\n",
      "Polinomio S_1(x) en [1, 2]:\n",
      "S_1(x) = 2.0 + -1.13333*(x - 1) + -4.26666*(x - 1)^2 + 3.4*(x - 1)^3\n",
      "\n",
      "Polinomio S_2(x) en [2, 3]:\n",
      "S_2(x) = 0.0 + 0.53333*(x - 2) + 5.93333*(x - 2)^2 + -4.46666*(x - 2)^3\n"
     ]
    }
   ],
   "source": [
    "def truncar(digito, decimales):\n",
    "    digito_string = str(digito)\n",
    "    negativo = digito_string.startswith(\"-\")\n",
    "    if negativo:\n",
    "        digito_string = digito_string[1:]\n",
    "    if \".\" in digito_string:\n",
    "        parte_entera, parte_decimal = digito_string.split(\".\")\n",
    "        parte_decimal_truncada = parte_decimal[:decimales]\n",
    "    else:\n",
    "        parte_entera = digito_string\n",
    "        parte_decimal_truncada = \"0\"\n",
    "    digito_truncado = parte_entera + \".\" + parte_decimal_truncada\n",
    "    if negativo:\n",
    "        digito_truncado = \"-\" + digito_truncado\n",
    "    return float(digito_truncado)\n",
    "\n",
    "def spline_condicionado(n, puntos_x, lista_a, FPO, FPN, decimales=5):\n",
    "    h = [0] * n\n",
    "    for i in range(n):\n",
    "        h[i] = puntos_x[i + 1] - puntos_x[i]\n",
    "\n",
    "    alpha = [0] * (n + 1)\n",
    "    alpha[0] = (3 * (lista_a[1] - lista_a[0]) / h[0]) - 3 * FPO\n",
    "    alpha[n] = 3 * FPN - (3 * (lista_a[n] - lista_a[n - 1]) / h[n - 1])\n",
    "    for i in range(1, n):\n",
    "        alpha[i] = (3 / h[i]) * (lista_a[i + 1] - lista_a[i]) - (3 / h[i - 1]) * (lista_a[i] - lista_a[i - 1])\n",
    "\n",
    "    l = [0] * (n + 1)\n",
    "    mu = [0] * (n + 1)\n",
    "    z = [0] * (n + 1)\n",
    "    c = [0] * (n + 1)\n",
    "\n",
    "    l[0] = 2 * h[0]\n",
    "    mu[0] = 0.5\n",
    "    z[0] = alpha[0] / l[0]\n",
    "\n",
    "    for i in range(1, n):\n",
    "        l[i] = 2 * (h[i] + h[i - 1]) - h[i] * mu[i - 1]\n",
    "        mu[i] = h[i] / l[i]\n",
    "        z[i] = (alpha[i] - h[i] * z[i - 1]) / l[i]\n",
    "\n",
    "    l[n] = h[n - 1] * (2 - mu[n - 1])\n",
    "    z[n] = (alpha[n] - h[n - 1] * z[n - 1]) / l[n]\n",
    "    c[n] = z[n]\n",
    "\n",
    "    b = [0] * n\n",
    "    d = [0] * n\n",
    "    a = lista_a[:]\n",
    "\n",
    "    for j in range(n - 1, -1, -1):\n",
    "        c[j] = z[j] - mu[j] * c[j + 1]\n",
    "        b[j] = (a[j + 1] - a[j]) / h[j] - h[j] * (c[j + 1] + 2 * c[j]) / 3\n",
    "        d[j] = (c[j + 1] - c[j]) / (3 * h[j])\n",
    "\n",
    "    for j in range(n):\n",
    "        aj = truncar(a[j], decimales)\n",
    "        bj = truncar(b[j], decimales)\n",
    "        cj = truncar(c[j], decimales)\n",
    "        dj = truncar(d[j], decimales)\n",
    "        xj = puntos_x[j]\n",
    "        print(f\"\\nPolinomio S_{j}(x) en [{xj}, {puntos_x[j+1]}]:\")\n",
    "        print(f\"S_{j}(x) = {aj} + {bj}*(x - {xj}) + {cj}*(x - {xj})^2 + {dj}*(x - {xj})^3\")\n",
    "\n",
    "    return\n",
    "\n",
    "n = 3\n",
    "puntos_x = [0, 1, 2, 3]\n",
    "lista_a = [1, 2, 0, 2]\n",
    "FPO = 1  \n",
    "FPN = -1  \n",
    "spline_condicionado(n, puntos_x, lista_a, FPO, FPN, decimales=5)"
   ]
  },
  {
   "cell_type": "markdown",
   "id": "4971a9e1",
   "metadata": {},
   "source": [
    "\n",
    "<h3 style=\"text-align: left; color: red;\">Método de mínimos cuadrados</h3>\n",
    "\n",
    "El método de mínimos cuadrados es una técnica utilizada para encontrar la mejor aproximación lineal (o polinómica) a un conjunto de datos. Se basa en minimizar la suma de los cuadrados de las diferencias (errores) entre los valores observados y los valores estimados por el modelo.\n"
   ]
  },
  {
   "cell_type": "code",
   "execution_count": 46,
   "id": "a7e85bb6",
   "metadata": {},
   "outputs": [
    {
     "name": "stdout",
     "output_type": "stream",
     "text": [
      "Recta obtenida:\n",
      "y = 0.75x + 1.39\n"
     ]
    }
   ],
   "source": [
    "def minimos_cuadrados(puntos_x, puntos_y, decimales=5):\n",
    "    n = len(puntos_x)\n",
    "    suma_x = 0\n",
    "    suma_y = 0\n",
    "    suma_x2 = 0\n",
    "    suma_xy = 0\n",
    "\n",
    "    for i in range(n):\n",
    "        suma_x = suma_x + puntos_x[i]\n",
    "        suma_y = suma_y + puntos_y[i]\n",
    "        suma_x2 = suma_x2 + puntos_x[i] * puntos_x[i]\n",
    "        suma_xy = suma_xy + puntos_x[i] * puntos_y[i]\n",
    "\n",
    "    numerador_m = n * suma_xy - suma_x * suma_y\n",
    "    denominador_m = n * suma_x2 - suma_x * suma_x\n",
    "    m = numerador_m / denominador_m\n",
    "\n",
    "    b = (suma_y - m * suma_x) / n\n",
    "\n",
    "    # Truncar\n",
    "    m = truncar(m, decimales)\n",
    "    b = truncar(b, decimales)\n",
    "\n",
    "    print(\"Recta obtenida:\")\n",
    "    print(f\"y = {m}x + {b}\")\n",
    "    return\n",
    "\n",
    "def truncar(digito, decimales):\n",
    "    digito_string = str(digito)\n",
    "    negativo = digito_string.startswith(\"-\")\n",
    "    if negativo:\n",
    "        digito_string = digito_string[1:]\n",
    "    if \".\" in digito_string:\n",
    "        parte_entera, parte_decimal = digito_string.split(\".\")\n",
    "        parte_decimal_truncada = parte_decimal[:decimales]\n",
    "    else:\n",
    "        parte_entera = digito_string\n",
    "        parte_decimal_truncada = \"0\"\n",
    "    digito_truncado = parte_entera + \".\" + parte_decimal_truncada\n",
    "    if negativo:\n",
    "        digito_truncado = \"-\" + digito_truncado\n",
    "    return float(digito_truncado)\n",
    "\n",
    "# Ejemplo de uso\n",
    "x = [1, 2, 3, 4, 5]\n",
    "y = [2.2, 2.8, 3.6, 4.5, 5.1]\n",
    "minimos_cuadrados(x, y, decimales=5)"
   ]
  }
 ],
 "metadata": {
  "kernelspec": {
   "display_name": "base",
   "language": "python",
   "name": "python3"
  },
  "language_info": {
   "codemirror_mode": {
    "name": "ipython",
    "version": 3
   },
   "file_extension": ".py",
   "mimetype": "text/x-python",
   "name": "python",
   "nbconvert_exporter": "python",
   "pygments_lexer": "ipython3",
   "version": "3.12.7"
  }
 },
 "nbformat": 4,
 "nbformat_minor": 5
}
