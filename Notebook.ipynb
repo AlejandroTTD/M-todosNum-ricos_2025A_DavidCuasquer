{
 "cells": [
  {
   "cell_type": "markdown",
   "id": "76f0c2b5",
   "metadata": {},
   "source": [
    "<h1 style=\"text-align: center;\">Métodos Numéricos</h1>"
   ]
  },
  {
   "cell_type": "markdown",
   "id": "fdbbae29",
   "metadata": {},
   "source": [
    "<h3 style=\"text-align: left; color: red;\">Conceptos clave</h3>"
   ]
  },
  {
   "cell_type": "markdown",
   "id": "8297ac25",
   "metadata": {},
   "source": [
    "- Modelar: Describir un problema o abstraer sus carácterísticas intrínsecas.\n",
    "- Simular: Experimentar mediante los datos o características obtenidas de la abstracción.\n",
    "- Emular: Imitar escenarios."
   ]
  },
  {
   "cell_type": "markdown",
   "id": "5edf1cfb",
   "metadata": {},
   "source": [
    "<h3 style=\"text-align: left; color: red;\">Métodos Analíticos</h3>\n",
    "\n",
    "Referencia al manejo de grandes datos, donde la solución es exacta."
   ]
  },
  {
   "cell_type": "code",
   "execution_count": 5,
   "id": "358d173b",
   "metadata": {},
   "outputs": [
    {
     "name": "stdout",
     "output_type": "stream",
     "text": [
      "El valor de x cuando toma el valor de 3.0 es: 11.0\n"
     ]
    }
   ],
   "source": [
    "# Resolver ecuación\n",
    "def resolver_ecuacion (x):\n",
    "    # Ecuación: x^2+x-1\n",
    "    resultado = x**2 + x - 1\n",
    "    print(f\"El valor de x cuando toma el valor de {x} es: {resultado}\")\n",
    "    return None\n",
    "\n",
    "x = float(input(\"Ingrese el valor de x: \"))\n",
    "resolver_ecuacion(x)"
   ]
  },
  {
   "cell_type": "markdown",
   "id": "02dabb97",
   "metadata": {},
   "source": [
    "<h3 style=\"text-align: left; color: red;\">Métodos Numéricos</h3>\n",
    "\n",
    "Proporciona soluciones aproximadas, con error. Es decir, sin solución exacta."
   ]
  },
  {
   "cell_type": "code",
   "execution_count": 7,
   "id": "d41d460e",
   "metadata": {},
   "outputs": [
    {
     "name": "stdout",
     "output_type": "stream",
     "text": [
      "Aproximación: x = -1.5999999999999996, f(x) = -0.040000000000000924\n",
      "Aproximación: x = 0.6000000000000006, f(x) = -0.03999999999999859\n"
     ]
    }
   ],
   "source": [
    "\n",
    "# Obtener valores de x\n",
    "x = -2\n",
    "while x <= 2:\n",
    "    resultado = x**2 + x - 1\n",
    "    if abs(resultado) < 0.1: \n",
    "        print(f\"Aproximación: x = {x}, f(x) = {resultado}\")\n",
    "    x += 0.1\n"
   ]
  },
  {
   "cell_type": "markdown",
   "id": "9e9377ca",
   "metadata": {},
   "source": [
    "<h3 style=\"text-align: left; color: red;\">Precisión vs Exactitud</h3>\n",
    "\n",
    "- Exactitud: Nos dice que tan cerca del valor real se encuentran los resultados.\n",
    "- Precision: Nos dice que tan cerca están los resultados entre sí, sin importar si se acercan al valor real."
   ]
  },
  {
   "cell_type": "code",
   "execution_count": 12,
   "id": "f25942a2",
   "metadata": {},
   "outputs": [
    {
     "name": "stdout",
     "output_type": "stream",
     "text": [
      "Preciso pero no exacto:\n",
      "Promedio = 15.12\n",
      "Error = 5.119999999999999\n",
      "\n",
      "Exacto pero no preciso:\n",
      "Promedio = 10.1\n",
      "Error = 0.09999999999999964\n",
      "\n",
      "Preciso y exacto:\n",
      "Promedio = 10.02\n",
      "Error = 0.019999999999999574\n",
      "\n"
     ]
    }
   ],
   "source": [
    "# Codigo para apreciar la diferencia\n",
    "valor_real = 10\n",
    "\n",
    "# Conjuntos de valores para evidenciar la diferencia\n",
    "preciso_no_exacto = [15.1, 15.2, 15.0, 15.1, 15.2] # Mas preciso\n",
    "exacto_no_preciso = [9.0, 11.0, 10.5, 8.5, 11.5] # Mas exacto\n",
    "preciso_y_exacto = [10.1, 10.0, 9.9, 10.0, 10.1] # Los dos\n",
    "\n",
    "# Función para calcular promedio y error\n",
    "def analizar(mediciones, nombre):\n",
    "    promedio = sum(mediciones) / len(mediciones)\n",
    "    error = abs(promedio - valor_real)\n",
    "    print(f\"{nombre}:\")\n",
    "    print(f\"Promedio = {promedio}\")\n",
    "    print(f\"Error = {error}\")\n",
    "    print()\n",
    "\n",
    "analizar(preciso_no_exacto, \"Preciso pero no exacto\")\n",
    "analizar(exacto_no_preciso, \"Exacto pero no preciso\")\n",
    "analizar(preciso_y_exacto, \"Preciso y exacto\")\n"
   ]
  },
  {
   "cell_type": "markdown",
   "id": "4463f0ea",
   "metadata": {},
   "source": [
    "<h3 style=\"text-align: left; color: red;\">Tipos de errores</h3>\n",
    "\n",
    "- Error de corte/truncamiento: Se toman los digitos sin redondear, por corte como lo dice el nombre.\n",
    "- Error de redondeo: Se redondean los dígitos."
   ]
  },
  {
   "cell_type": "code",
   "execution_count": 17,
   "id": "35f8f7f4",
   "metadata": {},
   "outputs": [
    {
     "name": "stdout",
     "output_type": "stream",
     "text": [
      "Valor de x por corte/truncamiento: 2.82502\n",
      "Valor de x por redondeo: 2.82503\n"
     ]
    }
   ],
   "source": [
    "# Error de corte\n",
    "x = 2 * 1.41251231235\n",
    "print(f\"Valor de x por corte/truncamiento: {x:.5f}\")\n",
    "\n",
    "# Error de redondeo\n",
    "x_redondeado = int(x * 100000 + 0.7) / 100000\n",
    "print(f\"Valor de x por redondeo: {x_redondeado}\")"
   ]
  },
  {
   "cell_type": "markdown",
   "id": "ee399798",
   "metadata": {},
   "source": [
    "<h3 style=\"text-align: left; color: red;\">Representación Numérica</h3>\n",
    "\n",
    "Es el como una computadora almacena y maneja los números utilizando bits, mediante el estándar IEEE 754 de doble o simple precisión."
   ]
  },
  {
   "cell_type": "code",
   "execution_count": 19,
   "id": "2e4be04f",
   "metadata": {},
   "outputs": [
    {
     "name": "stdout",
     "output_type": "stream",
     "text": [
      "El numero es: -18.96\n"
     ]
    }
   ],
   "source": [
    "def estandar_754_precision_simple(signo,exponente,mantisa):\n",
    "    # Para el exponente\n",
    "    e = 127\n",
    "    exponente_sesgado = exponente - e\n",
    "    # Para la mantisa\n",
    "    m = mantisa + 1\n",
    "\n",
    "    resultado = ((-1) ** signo) * (2 ** exponente_sesgado) * m\n",
    "\n",
    "    print(f\"El numero es: {resultado}\")\n",
    "    return None\n",
    "\n",
    "signo = 1\n",
    "exponente = 131\n",
    "mantisa = 0.185\n",
    "estandar_754_precision_simple(1,131,0.185)"
   ]
  },
  {
   "cell_type": "markdown",
   "id": "08577780",
   "metadata": {},
   "source": [
    "<h3 style=\"text-align: left; color: red;\">Cálculo de errores</h3>"
   ]
  },
  {
   "cell_type": "markdown",
   "id": "7ceccacd",
   "metadata": {
    "vscode": {
     "languageId": "latex"
    }
   },
   "source": [
    "Error real:\n",
    "\n",
    "$$error_{real}~=~p - p^*$$\n",
    "\n",
    "Error absoluto:\n",
    "\n",
    "$$error_{abs}~=~|error_{real}|$$\n",
    "\n",
    "Error relativo:\n",
    "\n",
    "$$error_{rel}~=~|\\frac{error_{abs}}{p}|$$\n",
    "\n",
    "Error relativo porcentual:\n",
    "\n",
    "$$error_{\\%}~=~error_{rel}*100\\%$$"
   ]
  },
  {
   "cell_type": "code",
   "execution_count": 37,
   "id": "a5a4fc4e",
   "metadata": {},
   "outputs": [
    {
     "name": "stdout",
     "output_type": "stream",
     "text": [
      "Error real: -0.2817181715409549\n",
      "Error absoluto: 0.2817181715409549\n",
      "Error relativo: 0.10363832351432703\n",
      "Error relativo porcentual: 10.363832351432704%\n"
     ]
    }
   ],
   "source": [
    "import math\n",
    "\n",
    "def error_real(p,p_aprox):\n",
    "    error_real = p - p_aprox\n",
    "    print(f\"Error real: {error_real}\")\n",
    "    return None\n",
    "\n",
    "def error_absoluto(p,p_aprox):\n",
    "    error_abs = abs(p-p_aprox)\n",
    "    print(f\"Error absoluto: {error_abs}\")\n",
    "    return None\n",
    "\n",
    "def error_relativo(p,p_aprox):\n",
    "    error_rel = abs((p-p_aprox)/p)\n",
    "    print(f\"Error relativo: {error_rel}\")\n",
    "    return None\n",
    "\n",
    "def error_relativo_porcentual(p,p_aprox):\n",
    "    error_porc = (abs((p-p_aprox)/p)) * 100\n",
    "    print(f\"Error relativo porcentual: {error_porc}%\")\n",
    "    return None\n",
    "\n",
    "p = math.e\n",
    "p_aprox = 3\n",
    "\n",
    "error_real(p,p_aprox)\n",
    "error_absoluto(p,p_aprox)\n",
    "error_relativo(p,p_aprox)\n",
    "error_relativo_porcentual(p,p_aprox)"
   ]
  },
  {
   "cell_type": "markdown",
   "id": "bf144dcf",
   "metadata": {},
   "source": [
    "<h3 style=\"text-align: left; color: red;\">Representación Numérica IEEE 754</h3>\n",
    "\n",
    "Pasos para convertir un número decimal a este estándar:\n",
    "1. Convertir a binario (parte entera y decimal).\n",
    "2. Escribir en notación científica el número obtenido.\n",
    "3. Seguir el estándar IEEE 754 de 32 o 64 bits.\n",
    "\n",
    "Seguiremos el ejemplo con el número $263.3_{10}$"
   ]
  },
  {
   "cell_type": "code",
   "execution_count": 6,
   "id": "9400642f",
   "metadata": {},
   "outputs": [
    {
     "name": "stdout",
     "output_type": "stream",
     "text": [
      "Signo:0\n",
      "Exponente:10000111\n",
      "Mantisa:00000111010011000000000\n",
      "IEEE-754 de 32 bits:0 10000111 00000111010011000000000\n"
     ]
    }
   ],
   "source": [
    "def entero_a_binario(parte_entera):\n",
    "    bit_parte_entera = \"\"\n",
    "    if parte_entera == 0:\n",
    "        bit_parte_entera = \"0\"\n",
    "    else:\n",
    "        while parte_entera > 0:\n",
    "            residuo = parte_entera % 2\n",
    "            bit_parte_entera = str(residuo) + bit_parte_entera\n",
    "            parte_entera = int(parte_entera / 2)\n",
    "        return bit_parte_entera\n",
    "\n",
    "def fraccionario_a_binario(parte_fraccionaria):\n",
    "    bit_parte_fraccionaria = \"\"\n",
    "    conteo = 0\n",
    "    limite_cifras = 6\n",
    "    while parte_fraccionaria > 0 and conteo < limite_cifras:\n",
    "        parte_fraccionaria = parte_fraccionaria * 2\n",
    "        aux = int(parte_fraccionaria)\n",
    "        bit_parte_fraccionaria = bit_parte_fraccionaria + str(aux)\n",
    "        parte_fraccionaria -= aux\n",
    "        conteo += 1\n",
    "    return bit_parte_fraccionaria\n",
    "\n",
    "def signo(valor):\n",
    "    if valor < 0:\n",
    "        return \"1\"\n",
    "    else:\n",
    "        return \"0\"\n",
    "\n",
    "def exponente_binario(parte_entera, parte_fraccionaria):\n",
    "    if parte_entera != 0:\n",
    "        exponente = len(entero_a_binario(abs(parte_entera))) - 1\n",
    "    else:\n",
    "        exponente = -1\n",
    "        while parte_fraccionaria * 2 < 1:\n",
    "            parte_fraccionaria *= 2\n",
    "            exponente -= 1\n",
    "    exponente_sesgado = exponente + 127  \n",
    "    return entero_a_binario(exponente_sesgado).zfill(8)\n",
    "\n",
    "def obtener_mantisa(parte_entera, parte_fraccionaria):\n",
    "    if parte_entera != 0:\n",
    "        bin_entera = entero_a_binario(abs(parte_entera))\n",
    "        bin_fraccion = fraccionario_a_binario(parte_fraccionaria)\n",
    "        mantisa = bin_entera[1:] + bin_fraccion\n",
    "    else:\n",
    "        mantisa = \"\"\n",
    "        parte_fraccionaria = abs(parte_fraccionaria)\n",
    "        while parte_fraccionaria * 2 < 1:\n",
    "            parte_fraccionaria *= 2\n",
    "        parte_fraccionaria *= 2\n",
    "        mantisa += \"1\" \n",
    "        mantisa += fraccionario_a_binario(parte_fraccionaria - 1)\n",
    "    return (mantisa + \"00000000000000000000000\")[:23]  \n",
    "\n",
    "def convertir_a_ieee754(numero):\n",
    "    s = signo(numero)\n",
    "    parte_entera = int(abs(numero))\n",
    "    parte_fraccionaria = abs(numero) - parte_entera\n",
    "    e = exponente_binario(parte_entera, parte_fraccionaria)\n",
    "    m = obtener_mantisa(parte_entera, parte_fraccionaria)\n",
    "    ieee754 = s + \" \" + e + \" \" + m\n",
    "    print(f\"Signo:{s}\")\n",
    "    print(f\"Exponente:{e}\")\n",
    "    print(f\"Mantisa:{m}\")\n",
    "    print(f\"IEEE-754 de 32 bits:{ieee754}\")\n",
    "    return None\n",
    "\n",
    "convertir_a_ieee754(263.3)"
   ]
  },
  {
   "cell_type": "code",
   "execution_count": 1,
   "id": "9c123110",
   "metadata": {},
   "outputs": [
    {
     "name": "stdout",
     "output_type": "stream",
     "text": [
      "Signo:0\n",
      "Exponente:10000000111\n",
      "Mantisa:0000011101001100110011001100110011001100110011001101\n",
      "IEEE-754 de 64 bits:0 10000000111 0000011101001100110011001100110011001100110011001101\n"
     ]
    }
   ],
   "source": [
    "def entero_a_binario(parte_entera):\n",
    "    bit_parte_entera = \"\"\n",
    "    if parte_entera == 0:\n",
    "        bit_parte_entera = \"0\"\n",
    "    else:\n",
    "        while parte_entera > 0:\n",
    "            residuo = parte_entera % 2\n",
    "            bit_parte_entera = str(residuo) + bit_parte_entera\n",
    "            parte_entera = int(parte_entera / 2)\n",
    "    return bit_parte_entera\n",
    "\n",
    "def fraccionario_a_binario(parte_fraccionaria, limite_cifras):\n",
    "    bit_parte_fraccionaria = \"\"\n",
    "    conteo = 0\n",
    "    while parte_fraccionaria > 0 and conteo < limite_cifras:\n",
    "        parte_fraccionaria = parte_fraccionaria * 2\n",
    "        aux = int(parte_fraccionaria)\n",
    "        bit_parte_fraccionaria = bit_parte_fraccionaria + str(aux)\n",
    "        parte_fraccionaria -= aux\n",
    "        conteo += 1\n",
    "    return bit_parte_fraccionaria\n",
    "\n",
    "def signo(valor):\n",
    "    if valor < 0:\n",
    "        return \"1\"\n",
    "    else:\n",
    "        return \"0\"\n",
    "\n",
    "def exponente_binario_64(parte_entera, parte_fraccionaria):\n",
    "    if parte_entera != 0:\n",
    "        exponente = len(entero_a_binario(abs(parte_entera))) - 1\n",
    "    else:\n",
    "        exponente = -1\n",
    "        while parte_fraccionaria * 2 < 1:\n",
    "            parte_fraccionaria *= 2\n",
    "            exponente -= 1\n",
    "    exponente_sesgado = exponente + 1023  # bias para 64 bits\n",
    "    return entero_a_binario(exponente_sesgado).zfill(11)\n",
    "\n",
    "def obtener_mantisa_64(parte_entera, parte_fraccionaria):\n",
    "    if parte_entera != 0:\n",
    "        bin_entera = entero_a_binario(abs(parte_entera))\n",
    "        bin_fraccion = fraccionario_a_binario(parte_fraccionaria, 52)\n",
    "        mantisa = bin_entera[1:] + bin_fraccion\n",
    "    else:\n",
    "        mantisa = \"\"\n",
    "        parte_fraccionaria = abs(parte_fraccionaria)\n",
    "        while parte_fraccionaria * 2 < 1:\n",
    "            parte_fraccionaria *= 2\n",
    "        parte_fraccionaria *= 2\n",
    "        mantisa += \"1\"\n",
    "        mantisa += fraccionario_a_binario(parte_fraccionaria - 1, 52)\n",
    "    return (mantisa + \"0000000000000000000000000000000000000000000000000000\")[:52]\n",
    "\n",
    "def convertir_a_ieee754_64(numero):\n",
    "    s = signo(numero)\n",
    "    parte_entera = int(abs(numero))\n",
    "    parte_fraccionaria = abs(numero) - parte_entera\n",
    "    e = exponente_binario_64(parte_entera, parte_fraccionaria)\n",
    "    m = obtener_mantisa_64(parte_entera, parte_fraccionaria)\n",
    "    ieee754 = s + \" \" + e + \" \" + m\n",
    "    print(f\"Signo:{s}\")\n",
    "    print(f\"Exponente:{e}\")\n",
    "    print(f\"Mantisa:{m}\")\n",
    "    print(f\"IEEE-754 de 64 bits:{ieee754}\")\n",
    "    return None\n",
    "\n",
    "convertir_a_ieee754_64(263.3)"
   ]
  },
  {
   "cell_type": "markdown",
   "id": "addf768e",
   "metadata": {},
   "source": [
    "<h3 style=\"text-align: left; color: red;\">Aritmética de Computador</h3>\n",
    "\n",
    "Hace referencia a la representación en punto flotante y sus operaciones definidas, mostradas a continuación:"
   ]
  },
  {
   "cell_type": "code",
   "execution_count": 7,
   "id": "c9711f41",
   "metadata": {},
   "outputs": [
    {
     "name": "stdout",
     "output_type": "stream",
     "text": [
      "Las operaciones de los siguientes numeros: A = 0.71429 y B = 0.71425\n",
      "Suma Flotante: 0.14285399999999998\n",
      "Resta Flotante: 3.999999999992898e-05\n",
      "Multiplicacion Flotante: 0.5101816325\n",
      "Division Flotante: 0.100005600280014\n",
      "Error relativo % de la multiplicacion: 0.00045999235563390015 %\n"
     ]
    }
   ],
   "source": [
    "def numero_a_flotante(digito):\n",
    "    if digito == 0:\n",
    "        numero = 0.0\n",
    "        return numero\n",
    "    else:\n",
    "        while abs(digito) >= 1:\n",
    "            digito /= 10\n",
    "        return digito\n",
    "\n",
    "def suma_flotante(digitoA, digitoB):\n",
    "    resultado = digitoA + digitoB\n",
    "    return numero_a_flotante(resultado)\n",
    "\n",
    "def resta_flotante(digitoA, digitoB):\n",
    "    resultado = digitoA - digitoB\n",
    "    return numero_a_flotante(resultado)\n",
    "\n",
    "def multiplicacion_flotante(digitoA, digitoB):\n",
    "    resultado = digitoA * digitoB\n",
    "    return numero_a_flotante(resultado)\n",
    "\n",
    "def division_flotante(digitoA, digitoB):\n",
    "    if digitoB == 0:\n",
    "        print(\"No existe la division para 0.\")\n",
    "        return None\n",
    "    else:\n",
    "        resultado = digitoA / digitoB\n",
    "        return numero_a_flotante(resultado)\n",
    "    \n",
    "def error_relativo_porcentual(valorReal, valorAprox):\n",
    "    if valorReal == 0:\n",
    "        print(\"No se puede calcular.\")\n",
    "        return None \n",
    "    error = abs((valorReal - valorAprox)/(valorReal)) * 100\n",
    "    return error\n",
    "\n",
    "# Ejemplos\n",
    "digitoA = 0.71429\n",
    "digitoA_real = 5/7\n",
    "digitoA_flotante = numero_a_flotante(digitoA)\n",
    "digitoB = 0.71425\n",
    "digitoB_real = 0.714251\n",
    "digitoB_flotante = numero_a_flotante(digitoB)\n",
    "\n",
    "multiplicacionAprox = multiplicacion_flotante(digitoA_flotante, digitoB_flotante)\n",
    "multiplicacionReal  = digitoA_real * digitoB_real\n",
    "\n",
    "print(f\"Las operaciones de los siguientes numeros: A = {digitoA_flotante} y B = {digitoB_flotante}\")\n",
    "print(f\"Suma Flotante: {suma_flotante(digitoA_flotante,digitoB_flotante)}\")\n",
    "print(f\"Resta Flotante: {resta_flotante(digitoA_flotante,digitoB_flotante)}\")\n",
    "print(f\"Multiplicacion Flotante: {multiplicacion_flotante(digitoA_flotante,digitoB_flotante)}\")\n",
    "print(f\"Division Flotante: {division_flotante(digitoA_flotante,digitoB_flotante)}\")\n",
    "print(f\"Error relativo % de la multiplicacion: {error_relativo_porcentual(multiplicacionReal,multiplicacionAprox)} %\")"
   ]
  },
  {
   "cell_type": "markdown",
   "id": "e5eb2d81",
   "metadata": {},
   "source": [
    "<h3 style=\"text-align: left; color: red;\">Convergencia, Divergencia y Tolerancia</h3>\n",
    "\n",
    "- Convergencia: Cuando al aumentar las iteraciones, el valor se acerca hacia un valor puntual.\n",
    "- Divergencia: Cuando al aumentar las iteraciones, el valor se aleja de forma indefinida o inestable.\n",
    "<!-- - Tolerancia: Límite aceptable del error al momento de establecer criterios de parada. -->"
   ]
  },
  {
   "cell_type": "code",
   "execution_count": 18,
   "id": "279f4a0a",
   "metadata": {},
   "outputs": [
    {
     "data": {
      "image/png": "[encoded data removed]",
      "text/plain": [
       "<Figure size 800x500 with 1 Axes>"
      ]
     },
     "metadata": {},
     "output_type": "display_data"
    }
   ],
   "source": [
    "import matplotlib.pyplot as plot\n",
    "import numpy as np\n",
    "\n",
    "iteraciones = np.linspace(1,20,20)\n",
    "\n",
    "def convergencia(x):\n",
    "    return np.exp(-0.5*x)\n",
    "\n",
    "def divergencia(x):\n",
    "    return np.exp(0.2*x)\n",
    "\n",
    "def oscilacion(x):\n",
    "    return np.abs(np.sin(x))\n",
    "\n",
    "yConv = convergencia(iteraciones)\n",
    "yDiv  = divergencia(iteraciones)\n",
    "yOs   = oscilacion(iteraciones)\n",
    "\n",
    "plot.figure(figsize=(8,5))\n",
    "plot.plot(iteraciones,yConv,color=\"blue\",label=\"Convergencia\")\n",
    "plot.plot(iteraciones,yDiv,color=\"pink\",label=\"Divergencia\")\n",
    "plot.plot(iteraciones,yOs,color=\"red\",label=\"Osilacion\")\n",
    "plot.xlabel(\"Iteraciones\")\n",
    "plot.title(\"Convergencia, divergencia y oscilacion del coseno\")\n",
    "plot.grid(True)\n"
   ]
  },
  {
   "cell_type": "code",
   "execution_count": null,
   "id": "1b5a9b3c",
   "metadata": {},
   "outputs": [],
   "source": []
  }
 ],
 "metadata": {
  "kernelspec": {
   "display_name": "base",
   "language": "python",
   "name": "python3"
  },
  "language_info": {
   "codemirror_mode": {
    "name": "ipython",
    "version": 3
   },
   "file_extension": ".py",
   "mimetype": "text/x-python",
   "name": "python",
   "nbconvert_exporter": "python",
   "pygments_lexer": "ipython3",
   "version": "3.12.7"
  }
 },
 "nbformat": 4,
 "nbformat_minor": 5
}
